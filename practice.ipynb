{
  "nbformat": 4,
  "nbformat_minor": 0,
  "metadata": {
    "colab": {
      "provenance": [],
      "authorship_tag": "ABX9TyM5fXRMA7D1f96S9Tt7o9vn",
      "include_colab_link": true
    },
    "kernelspec": {
      "name": "python3",
      "display_name": "Python 3"
    },
    "language_info": {
      "name": "python"
    }
  },
  "cells": [
    {
      "cell_type": "markdown",
      "metadata": {
        "id": "view-in-github",
        "colab_type": "text"
      },
      "source": [
        "<a href=\"https://colab.research.google.com/github/Zabrsh/test/blob/master/practice.ipynb\" target=\"_parent\"><img src=\"https://colab.research.google.com/assets/colab-badge.svg\" alt=\"Open In Colab\"/></a>"
      ]
    },
    {
      "cell_type": "code",
      "execution_count": null,
      "metadata": {
        "colab": {
          "base_uri": "https://localhost:8080/"
        },
        "id": "h_r1wNRfxXMs",
        "outputId": "3089b40c-8ffc-4899-8880-b854118b246d"
      },
      "outputs": [
        {
          "output_type": "stream",
          "name": "stdout",
          "text": [
            "   CustomerID  Gender  Age  Annual Income ($)  Spending Score (1-100)  \\\n",
            "0           1    Male   19              15000                      39   \n",
            "1           2    Male   21              35000                      81   \n",
            "2           3  Female   20              86000                       6   \n",
            "3           4  Female   23              59000                      77   \n",
            "4           5  Female   31              38000                      40   \n",
            "\n",
            "      Profession  Work Experience  Family Size  \n",
            "0     Healthcare                1            4  \n",
            "1       Engineer                3            3  \n",
            "2       Engineer                1            1  \n",
            "3         Lawyer                0            2  \n",
            "4  Entertainment                2            6  \n"
          ]
        }
      ],
      "source": [
        "import pandas as pd\n",
        "df = pd.read_csv('/content/Customers_big.csv')\n",
        "print(df.head(5))"
      ]
    },
    {
      "cell_type": "code",
      "source": [
        "print(df.dropna())"
      ],
      "metadata": {
        "colab": {
          "base_uri": "https://localhost:8080/"
        },
        "id": "QmM07T396Qvt",
        "outputId": "c7f7dcac-32f4-44e4-c377-44b4af788bf5"
      },
      "execution_count": null,
      "outputs": [
        {
          "output_type": "stream",
          "name": "stdout",
          "text": [
            "      CustomerID  Gender  Age  Annual Income ($)  Spending Score (1-100)  \\\n",
            "0              1    Male   19              15000                      39   \n",
            "1              2    Male   21              35000                      81   \n",
            "2              3  Female   20              86000                       6   \n",
            "3              4  Female   23              59000                      77   \n",
            "4              5  Female   31              38000                      40   \n",
            "...          ...     ...  ...                ...                     ...   \n",
            "1995        1996  Female   71             184387                      40   \n",
            "1996        1997  Female   91              73158                      32   \n",
            "1997        1998    Male   87              90961                      14   \n",
            "1998        1999    Male   77             182109                       4   \n",
            "1999        2000    Male   90             110610                      52   \n",
            "\n",
            "         Profession  Work Experience  Family Size  \n",
            "0        Healthcare                1            4  \n",
            "1          Engineer                3            3  \n",
            "2          Engineer                1            1  \n",
            "3            Lawyer                0            2  \n",
            "4     Entertainment                2            6  \n",
            "...             ...              ...          ...  \n",
            "1995         Artist                8            7  \n",
            "1996         Doctor                7            7  \n",
            "1997     Healthcare                9            2  \n",
            "1998      Executive                7            2  \n",
            "1999  Entertainment                5            2  \n",
            "\n",
            "[1965 rows x 8 columns]\n"
          ]
        }
      ]
    },
    {
      "cell_type": "code",
      "source": [
        "print(df.fillna(value='Fill Value'))"
      ],
      "metadata": {
        "id": "hFFQK_xf67AW"
      },
      "execution_count": null,
      "outputs": []
    },
    {
      "cell_type": "code",
      "source": [
        "print(df.fillna(value=df['Age'].mean()))"
      ],
      "metadata": {
        "id": "XBmr8bMC7E7E"
      },
      "execution_count": null,
      "outputs": []
    },
    {
      "cell_type": "code",
      "source": [
        "# Selecting column\n",
        "print(df['Age'])"
      ],
      "metadata": {
        "colab": {
          "base_uri": "https://localhost:8080/"
        },
        "id": "lC00mBAi7nTD",
        "outputId": "aaf1585f-4d1a-4b22-951b-330ad83b6b99"
      },
      "execution_count": null,
      "outputs": [
        {
          "output_type": "stream",
          "name": "stdout",
          "text": [
            "0       19\n",
            "1       21\n",
            "2       20\n",
            "3       23\n",
            "4       31\n",
            "        ..\n",
            "1995    71\n",
            "1996    91\n",
            "1997    87\n",
            "1998    77\n",
            "1999    90\n",
            "Name: Age, Length: 2000, dtype: int64\n"
          ]
        }
      ]
    },
    {
      "cell_type": "code",
      "source": [
        "# Selecting columns\n",
        "print(df[['Age','Gender']])"
      ],
      "metadata": {
        "colab": {
          "base_uri": "https://localhost:8080/"
        },
        "id": "GLcI5RqA8yPd",
        "outputId": "adce4e05-7db1-49c2-8245-234db6d6fac1"
      },
      "execution_count": null,
      "outputs": [
        {
          "output_type": "stream",
          "name": "stdout",
          "text": [
            "      Age  Gender\n",
            "0      19    Male\n",
            "1      21    Male\n",
            "2      20  Female\n",
            "3      23  Female\n",
            "4      31  Female\n",
            "...   ...     ...\n",
            "1995   71  Female\n",
            "1996   91  Female\n",
            "1997   87    Male\n",
            "1998   77    Male\n",
            "1999   90    Male\n",
            "\n",
            "[2000 rows x 2 columns]\n"
          ]
        }
      ]
    },
    {
      "cell_type": "code",
      "source": [
        "#Selecting rows\n",
        "print(df[0:2])"
      ],
      "metadata": {
        "colab": {
          "base_uri": "https://localhost:8080/"
        },
        "id": "Ox36K52K92DR",
        "outputId": "213431d4-1528-4317-c3d0-c6967c4363c2"
      },
      "execution_count": null,
      "outputs": [
        {
          "output_type": "stream",
          "name": "stdout",
          "text": [
            "   CustomerID Gender  Age  Annual Income ($)  Spending Score (1-100)  \\\n",
            "0           1   Male   19              15000                      39   \n",
            "1           2   Male   21              35000                      81   \n",
            "\n",
            "   Profession  Work Experience  Family Size  \n",
            "0  Healthcare                1            4  \n",
            "1    Engineer                3            3  \n"
          ]
        }
      ]
    },
    {
      "cell_type": "code",
      "source": [
        "# Selecting by condition\n",
        "print(df[df['Age'] > 25])"
      ],
      "metadata": {
        "colab": {
          "base_uri": "https://localhost:8080/"
        },
        "id": "3H2P2aS09_tm",
        "outputId": "5485a629-b8ab-4e65-e3b5-cbaac1f2603f"
      },
      "execution_count": null,
      "outputs": [
        {
          "output_type": "stream",
          "name": "stdout",
          "text": [
            "      CustomerID  Gender  Age  Annual Income ($)  Spending Score (1-100)  \\\n",
            "4              5  Female   31              38000                      40   \n",
            "6              7  Female   35              31000                       6   \n",
            "8              9    Male   64              97000                       3   \n",
            "9             10  Female   30              98000                      72   \n",
            "10            11    Male   67               7000                      14   \n",
            "...          ...     ...  ...                ...                     ...   \n",
            "1995        1996  Female   71             184387                      40   \n",
            "1996        1997  Female   91              73158                      32   \n",
            "1997        1998    Male   87              90961                      14   \n",
            "1998        1999    Male   77             182109                       4   \n",
            "1999        2000    Male   90             110610                      52   \n",
            "\n",
            "         Profession  Work Experience  Family Size  \n",
            "4     Entertainment                2            6  \n",
            "6        Healthcare                1            3  \n",
            "8          Engineer                0            3  \n",
            "9            Artist                1            4  \n",
            "10         Engineer                1            3  \n",
            "...             ...              ...          ...  \n",
            "1995         Artist                8            7  \n",
            "1996         Doctor                7            7  \n",
            "1997     Healthcare                9            2  \n",
            "1998      Executive                7            2  \n",
            "1999  Entertainment                5            2  \n",
            "\n",
            "[1484 rows x 8 columns]\n"
          ]
        }
      ]
    },
    {
      "cell_type": "code",
      "source": [
        "#Selecting with more complex conditions\n",
        "print(df[(df['Age'] > 25) & (df['Gender'] == 'Female')])"
      ],
      "metadata": {
        "colab": {
          "base_uri": "https://localhost:8080/"
        },
        "id": "2QSS0gug-ZBH",
        "outputId": "68416913-68b6-4ed8-9831-67e6bf4ce8c0"
      },
      "execution_count": null,
      "outputs": [
        {
          "output_type": "stream",
          "name": "stdout",
          "text": [
            "      CustomerID  Gender  Age  Annual Income ($)  Spending Score (1-100)  \\\n",
            "4              5  Female   31              38000                      40   \n",
            "6              7  Female   35              31000                       6   \n",
            "9             10  Female   30              98000                      72   \n",
            "11            12  Female   35              93000                      99   \n",
            "12            13  Female   58              80000                      15   \n",
            "...          ...     ...  ...                ...                     ...   \n",
            "1990        1991  Female   30             166983                      69   \n",
            "1991        1992  Female   97             129444                      96   \n",
            "1993        1994  Female   64             175254                     100   \n",
            "1995        1996  Female   71             184387                      40   \n",
            "1996        1997  Female   91              73158                      32   \n",
            "\n",
            "         Profession  Work Experience  Family Size  \n",
            "4     Entertainment                2            6  \n",
            "6        Healthcare                1            3  \n",
            "9            Artist                1            4  \n",
            "11       Healthcare                4            4  \n",
            "12        Executive                0            5  \n",
            "...             ...              ...          ...  \n",
            "1990         Artist                7            3  \n",
            "1991  Entertainment                5            6  \n",
            "1993         Artist                9            5  \n",
            "1995         Artist                8            7  \n",
            "1996         Doctor                7            7  \n",
            "\n",
            "[885 rows x 8 columns]\n"
          ]
        }
      ]
    },
    {
      "cell_type": "code",
      "source": [
        "#Query method\n",
        "print(df.query('Age > 25'))"
      ],
      "metadata": {
        "colab": {
          "base_uri": "https://localhost:8080/"
        },
        "id": "jF5FZ8R6BI_J",
        "outputId": "75226d5d-0c5c-42d2-9cd3-eca3b79920ef"
      },
      "execution_count": null,
      "outputs": [
        {
          "output_type": "stream",
          "name": "stdout",
          "text": [
            "      CustomerID  Gender  Age  Annual Income ($)  Spending Score (1-100)  \\\n",
            "4              5  Female   31              38000                      40   \n",
            "6              7  Female   35              31000                       6   \n",
            "8              9    Male   64              97000                       3   \n",
            "9             10  Female   30              98000                      72   \n",
            "10            11    Male   67               7000                      14   \n",
            "...          ...     ...  ...                ...                     ...   \n",
            "1995        1996  Female   71             184387                      40   \n",
            "1996        1997  Female   91              73158                      32   \n",
            "1997        1998    Male   87              90961                      14   \n",
            "1998        1999    Male   77             182109                       4   \n",
            "1999        2000    Male   90             110610                      52   \n",
            "\n",
            "         Profession  Work Experience  Family Size  \n",
            "4     Entertainment                2            6  \n",
            "6        Healthcare                1            3  \n",
            "8          Engineer                0            3  \n",
            "9            Artist                1            4  \n",
            "10         Engineer                1            3  \n",
            "...             ...              ...          ...  \n",
            "1995         Artist                8            7  \n",
            "1996         Doctor                7            7  \n",
            "1997     Healthcare                9            2  \n",
            "1998      Executive                7            2  \n",
            "1999  Entertainment                5            2  \n",
            "\n",
            "[1484 rows x 8 columns]\n"
          ]
        }
      ]
    },
    {
      "cell_type": "code",
      "source": [
        "print(df.loc[:,['Age', 'Gender']])"
      ],
      "metadata": {
        "colab": {
          "base_uri": "https://localhost:8080/"
        },
        "id": "NoK-yzlbFn9V",
        "outputId": "e4534ac8-026d-4329-997c-c7c89c69b688"
      },
      "execution_count": null,
      "outputs": [
        {
          "output_type": "stream",
          "name": "stdout",
          "text": [
            "      Age  Gender\n",
            "0      19    Male\n",
            "1      21    Male\n",
            "2      20  Female\n",
            "3      23  Female\n",
            "4      31  Female\n",
            "...   ...     ...\n",
            "1995   71  Female\n",
            "1996   91  Female\n",
            "1997   87    Male\n",
            "1998   77    Male\n",
            "1999   90    Male\n",
            "\n",
            "[2000 rows x 2 columns]\n"
          ]
        }
      ]
    },
    {
      "cell_type": "code",
      "source": [
        "print(df.iloc[:,[2,1]])"
      ],
      "metadata": {
        "colab": {
          "base_uri": "https://localhost:8080/"
        },
        "id": "z4oOsIIYF_1F",
        "outputId": "810b778e-e7b2-430b-8229-8d29e5afe88b"
      },
      "execution_count": null,
      "outputs": [
        {
          "output_type": "stream",
          "name": "stdout",
          "text": [
            "      Age  Gender\n",
            "0      19    Male\n",
            "1      21    Male\n",
            "2      20  Female\n",
            "3      23  Female\n",
            "4      31  Female\n",
            "...   ...     ...\n",
            "1995   71  Female\n",
            "1996   91  Female\n",
            "1997   87    Male\n",
            "1998   77    Male\n",
            "1999   90    Male\n",
            "\n",
            "[2000 rows x 2 columns]\n"
          ]
        }
      ]
    },
    {
      "cell_type": "code",
      "source": [
        "print(df.loc[1:3, :])"
      ],
      "metadata": {
        "colab": {
          "base_uri": "https://localhost:8080/"
        },
        "id": "QJSsTR6MOyqu",
        "outputId": "d7f6fc1f-efae-459c-9c82-5ced8c71c9b4"
      },
      "execution_count": null,
      "outputs": [
        {
          "output_type": "stream",
          "name": "stdout",
          "text": [
            "   CustomerID  Gender  Age  Annual Income ($)  Spending Score (1-100)  \\\n",
            "1           2    Male   21              35000                      81   \n",
            "2           3  Female   20              86000                       6   \n",
            "3           4  Female   23              59000                      77   \n",
            "\n",
            "  Profession  Work Experience  Family Size  \n",
            "1   Engineer                3            3  \n",
            "2   Engineer                1            1  \n",
            "3     Lawyer                0            2  \n"
          ]
        }
      ]
    },
    {
      "cell_type": "code",
      "source": [
        "print(df.iloc[2:5,[0,1]])"
      ],
      "metadata": {
        "colab": {
          "base_uri": "https://localhost:8080/"
        },
        "id": "i1FWBd3OPI6r",
        "outputId": "83d48981-4ecd-4135-9eba-6b48b7a2cef2"
      },
      "execution_count": null,
      "outputs": [
        {
          "output_type": "stream",
          "name": "stdout",
          "text": [
            "   CustomerID  Gender\n",
            "2           3  Female\n",
            "3           4  Female\n",
            "4           5  Female\n"
          ]
        }
      ]
    },
    {
      "cell_type": "code",
      "source": [],
      "metadata": {
        "id": "kD-3Ic4sPdoW"
      },
      "execution_count": null,
      "outputs": []
    },
    {
      "cell_type": "code",
      "source": [
        "print(df.loc[4:10,['Age',\"Gender\",\"Family Size\"]])"
      ],
      "metadata": {
        "colab": {
          "base_uri": "https://localhost:8080/"
        },
        "id": "jKSAVMJBP5Jb",
        "outputId": "7b4bbf0c-09c6-4270-97cd-3398b150e52e"
      },
      "execution_count": null,
      "outputs": [
        {
          "output_type": "stream",
          "name": "stdout",
          "text": [
            "    Age  Gender  Family Size\n",
            "4    31  Female            6\n",
            "5    22  Female            2\n",
            "6    35  Female            3\n",
            "7    23  Female            3\n",
            "8    64    Male            3\n",
            "9    30  Female            4\n",
            "10   67    Male            3\n"
          ]
        }
      ]
    },
    {
      "cell_type": "code",
      "source": [
        "# Create a sample DataFrame\n",
        "data = {\n",
        " 'Name': ['John', 'Emma', 'Alex', 'Sarah'],\n",
        " 'Age': [28, 32, 25, 30],\n",
        " 'Salary': [5000, 7000, 4500, 6000]\n",
        "}\n",
        "df = pd.DataFrame(data)"
      ],
      "metadata": {
        "id": "7m3YVJ_cTlWV"
      },
      "execution_count": null,
      "outputs": []
    },
    {
      "cell_type": "code",
      "source": [
        "print(df.sort_values('Age'))"
      ],
      "metadata": {
        "colab": {
          "base_uri": "https://localhost:8080/"
        },
        "id": "C0_rRJ3hT8lt",
        "outputId": "ce95bf6d-2293-4765-d31e-71b791f38e45"
      },
      "execution_count": null,
      "outputs": [
        {
          "output_type": "stream",
          "name": "stdout",
          "text": [
            "    Name  Age  Salary\n",
            "2   Alex   25    4500\n",
            "0   John   28    5000\n",
            "3  Sarah   30    6000\n",
            "1   Emma   32    7000\n"
          ]
        }
      ]
    },
    {
      "cell_type": "code",
      "source": [
        "print(df.sort_values(['Age',\"Salary\"], ascending=[True,True]))"
      ],
      "metadata": {
        "colab": {
          "base_uri": "https://localhost:8080/"
        },
        "id": "UIOggS1_W3yW",
        "outputId": "cff1479c-8c16-49c5-e9c3-b493c6faeace"
      },
      "execution_count": null,
      "outputs": [
        {
          "output_type": "stream",
          "name": "stdout",
          "text": [
            "    Name  Age  Salary\n",
            "2   Alex   25    4500\n",
            "0   John   28    5000\n",
            "3  Sarah   30    6000\n",
            "1   Emma   32    7000\n"
          ]
        }
      ]
    },
    {
      "cell_type": "code",
      "source": [
        "import numpy as np\n",
        "\n",
        "df1 = pd.DataFrame({\n",
        " 'key': ['A', 'B', 'C', 'D'],\n",
        " 'value': np.random.randn(4)\n",
        " })\n",
        "\n",
        "df2 = pd.DataFrame({\n",
        " 'key': ['B', 'D', 'D', 'E'],\n",
        " 'value': np.random.randn(4)\n",
        " })\n",
        "merged = pd.merge(df1, df2, on='key')"
      ],
      "metadata": {
        "id": "AnnmO1ab9T6b"
      },
      "execution_count": null,
      "outputs": []
    },
    {
      "cell_type": "code",
      "source": [
        "print(merged.head())"
      ],
      "metadata": {
        "colab": {
          "base_uri": "https://localhost:8080/"
        },
        "id": "5rc_NhNC9p1x",
        "outputId": "b29a2fda-68ee-475a-9dbd-adb3f68f75d9"
      },
      "execution_count": null,
      "outputs": [
        {
          "output_type": "stream",
          "name": "stdout",
          "text": [
            "  key   value_x   value_y\n",
            "0   B -0.299161  1.389286\n",
            "1   D  0.349171  1.618972\n",
            "2   D  0.349171  1.833121\n"
          ]
        }
      ]
    },
    {
      "cell_type": "code",
      "source": [
        "data = {\n",
        "'Company': ['GOOG', 'GOOG', 'MSFT', 'MSFT', 'FB', 'FB'],\n",
        "'Person': ['Sam', 'Charlie', 'Amy', 'Vanessa', 'Carl', 'Sarah'],\n",
        "'Sales': [200, 120, 340, 124, 243, 350]\n",
        "}\n",
        "df = pd.DataFrame(data)"
      ],
      "metadata": {
        "id": "H1DJyV3EBhxp"
      },
      "execution_count": null,
      "outputs": []
    },
    {
      "cell_type": "code",
      "source": [
        "by_comp = df.groupby('Company')['Sales'].mean()\n",
        "print(by_comp)\n",
        "print( df.groupby('Company')['Sales'].sum())\n",
        "print(df.groupby('Company')['Sales'].std())\n",
        "print(df.groupby('Company')['Sales'].describe())"
      ],
      "metadata": {
        "colab": {
          "base_uri": "https://localhost:8080/"
        },
        "id": "I8Fq2e20CJ7o",
        "outputId": "d2bd4d54-0be4-4944-f149-97531eb60d81"
      },
      "execution_count": null,
      "outputs": [
        {
          "output_type": "stream",
          "name": "stdout",
          "text": [
            "Company\n",
            "FB      296.5\n",
            "GOOG    160.0\n",
            "MSFT    232.0\n",
            "Name: Sales, dtype: float64\n",
            "Company\n",
            "FB      593\n",
            "GOOG    320\n",
            "MSFT    464\n",
            "Name: Sales, dtype: int64\n",
            "Company\n",
            "FB       75.660426\n",
            "GOOG     56.568542\n",
            "MSFT    152.735065\n",
            "Name: Sales, dtype: float64\n",
            "         count   mean         std    min     25%    50%     75%    max\n",
            "Company                                                               \n",
            "FB         2.0  296.5   75.660426  243.0  269.75  296.5  323.25  350.0\n",
            "GOOG       2.0  160.0   56.568542  120.0  140.00  160.0  180.00  200.0\n",
            "MSFT       2.0  232.0  152.735065  124.0  178.00  232.0  286.00  340.0\n"
          ]
        }
      ]
    },
    {
      "cell_type": "code",
      "source": [
        "def earliest_connected_time(friendships, n):\n",
        "    # Initialize union-find data structure\n",
        "    uf = UnionFind(n)\n",
        "    count = 0\n",
        "\n",
        "    # Iterate through friendships in chronological order\n",
        "    for timestamp, p1, p2 in friendships:\n",
        "        if uf.find(p1) != uf.find(p2):\n",
        "            uf.union(p1, p2)\n",
        "            count += 1\n",
        "            if count == n - 1:\n",
        "                return timestamp\n",
        "\n",
        "    # If not all members are connected, return +infinity\n",
        "    return float('inf')\n",
        "\n",
        "friendships = [\n",
        "    (0, 1, \"2015-08-14 18:00:00\"),\n",
        "    (1, 9, \"2015-08-14 18:01:00\"),\n",
        "    (0, 2, \"2015-08-14 18:02:00\"),\n",
        "    (0, 3, \"2015-08-14 18:04:00\"),\n",
        "    (0, 4, \"2015-08-14 18:06:00\"),\n",
        "    (0, 5, \"2015-08-14 18:08:00\"),\n",
        "    (0, 6, \"2015-08-14 18:10:00\"),\n",
        "    (0, 7, \"2015-08-14 18:12:00\"),\n",
        "    (0, 8, \"2015-08-14 18:14:00\"),\n",
        "    (1, 2, \"2015-08-14 18:16:00\"),\n",
        "    (1, 3, \"2015-08-14 18:18:00\"),\n",
        "    (1, 4, \"2015-08-14 18:20:00\"),\n",
        "    (1, 5, \"2015-08-14 18:22:00\"),\n",
        "    (2, 1, \"2015-08-14 18:24:00\"),\n",
        "    (2, 3, \"2015-08-14 18:26:00\"),\n",
        "    (2, 4, \"2015-08-14 18:28:00\"),\n",
        "    (5, 5, \"2015-08-14 18:30:00\")\n",
        "]\n",
        "\n",
        "\n",
        "\n",
        "n = 10  # Number of individuals\n",
        "\n",
        "result = earliest_connected_time(friendships, n)\n",
        "print(\"Earliest connected time:\", result)\n"
      ],
      "metadata": {
        "colab": {
          "base_uri": "https://localhost:8080/",
          "height": 339
        },
        "id": "GoxByMIfpFa6",
        "outputId": "200cecca-5e8b-46e0-ef31-ebcd93d201d8"
      },
      "execution_count": null,
      "outputs": [
        {
          "output_type": "error",
          "ename": "TypeError",
          "evalue": "list indices must be integers or slices, not str",
          "traceback": [
            "\u001b[0;31m---------------------------------------------------------------------------\u001b[0m",
            "\u001b[0;31mTypeError\u001b[0m                                 Traceback (most recent call last)",
            "\u001b[0;32m<ipython-input-3-f96e700f1ebc>\u001b[0m in \u001b[0;36m<cell line: 41>\u001b[0;34m()\u001b[0m\n\u001b[1;32m     39\u001b[0m \u001b[0mn\u001b[0m \u001b[0;34m=\u001b[0m \u001b[0;36m10\u001b[0m  \u001b[0;31m# Number of individuals\u001b[0m\u001b[0;34m\u001b[0m\u001b[0;34m\u001b[0m\u001b[0m\n\u001b[1;32m     40\u001b[0m \u001b[0;34m\u001b[0m\u001b[0m\n\u001b[0;32m---> 41\u001b[0;31m \u001b[0mresult\u001b[0m \u001b[0;34m=\u001b[0m \u001b[0mearliest_connected_time\u001b[0m\u001b[0;34m(\u001b[0m\u001b[0mfriendships\u001b[0m\u001b[0;34m,\u001b[0m \u001b[0mn\u001b[0m\u001b[0;34m)\u001b[0m\u001b[0;34m\u001b[0m\u001b[0;34m\u001b[0m\u001b[0m\n\u001b[0m\u001b[1;32m     42\u001b[0m \u001b[0mprint\u001b[0m\u001b[0;34m(\u001b[0m\u001b[0;34m\"Earliest connected time:\"\u001b[0m\u001b[0;34m,\u001b[0m \u001b[0mresult\u001b[0m\u001b[0;34m)\u001b[0m\u001b[0;34m\u001b[0m\u001b[0;34m\u001b[0m\u001b[0m\n",
            "\u001b[0;32m<ipython-input-3-f96e700f1ebc>\u001b[0m in \u001b[0;36mearliest_connected_time\u001b[0;34m(friendships, n)\u001b[0m\n\u001b[1;32m      6\u001b[0m     \u001b[0;31m# Iterate through friendships in chronological order\u001b[0m\u001b[0;34m\u001b[0m\u001b[0;34m\u001b[0m\u001b[0m\n\u001b[1;32m      7\u001b[0m     \u001b[0;32mfor\u001b[0m \u001b[0mtimestamp\u001b[0m\u001b[0;34m,\u001b[0m \u001b[0mp1\u001b[0m\u001b[0;34m,\u001b[0m \u001b[0mp2\u001b[0m \u001b[0;32min\u001b[0m \u001b[0mfriendships\u001b[0m\u001b[0;34m:\u001b[0m\u001b[0;34m\u001b[0m\u001b[0;34m\u001b[0m\u001b[0m\n\u001b[0;32m----> 8\u001b[0;31m         \u001b[0;32mif\u001b[0m \u001b[0muf\u001b[0m\u001b[0;34m.\u001b[0m\u001b[0mfind\u001b[0m\u001b[0;34m(\u001b[0m\u001b[0mp1\u001b[0m\u001b[0;34m)\u001b[0m \u001b[0;34m!=\u001b[0m \u001b[0muf\u001b[0m\u001b[0;34m.\u001b[0m\u001b[0mfind\u001b[0m\u001b[0;34m(\u001b[0m\u001b[0mp2\u001b[0m\u001b[0;34m)\u001b[0m\u001b[0;34m:\u001b[0m\u001b[0;34m\u001b[0m\u001b[0;34m\u001b[0m\u001b[0m\n\u001b[0m\u001b[1;32m      9\u001b[0m             \u001b[0muf\u001b[0m\u001b[0;34m.\u001b[0m\u001b[0munion\u001b[0m\u001b[0;34m(\u001b[0m\u001b[0mp1\u001b[0m\u001b[0;34m,\u001b[0m \u001b[0mp2\u001b[0m\u001b[0;34m)\u001b[0m\u001b[0;34m\u001b[0m\u001b[0;34m\u001b[0m\u001b[0m\n\u001b[1;32m     10\u001b[0m             \u001b[0mcount\u001b[0m \u001b[0;34m+=\u001b[0m \u001b[0;36m1\u001b[0m\u001b[0;34m\u001b[0m\u001b[0;34m\u001b[0m\u001b[0m\n",
            "\u001b[0;32m<ipython-input-1-b7ec94378e21>\u001b[0m in \u001b[0;36mfind\u001b[0;34m(self, x)\u001b[0m\n\u001b[1;32m      7\u001b[0m \u001b[0;34m\u001b[0m\u001b[0m\n\u001b[1;32m      8\u001b[0m     \u001b[0;32mdef\u001b[0m \u001b[0mfind\u001b[0m\u001b[0;34m(\u001b[0m\u001b[0mself\u001b[0m\u001b[0;34m,\u001b[0m \u001b[0mx\u001b[0m\u001b[0;34m)\u001b[0m\u001b[0;34m:\u001b[0m\u001b[0;34m\u001b[0m\u001b[0;34m\u001b[0m\u001b[0m\n\u001b[0;32m----> 9\u001b[0;31m         \u001b[0;32mif\u001b[0m \u001b[0mself\u001b[0m\u001b[0;34m.\u001b[0m\u001b[0mparent\u001b[0m\u001b[0;34m[\u001b[0m\u001b[0mx\u001b[0m\u001b[0;34m]\u001b[0m \u001b[0;34m!=\u001b[0m \u001b[0mx\u001b[0m\u001b[0;34m:\u001b[0m\u001b[0;34m\u001b[0m\u001b[0;34m\u001b[0m\u001b[0m\n\u001b[0m\u001b[1;32m     10\u001b[0m             \u001b[0mself\u001b[0m\u001b[0;34m.\u001b[0m\u001b[0mparent\u001b[0m\u001b[0;34m[\u001b[0m\u001b[0mx\u001b[0m\u001b[0;34m]\u001b[0m \u001b[0;34m=\u001b[0m \u001b[0mself\u001b[0m\u001b[0;34m.\u001b[0m\u001b[0mfind\u001b[0m\u001b[0;34m(\u001b[0m\u001b[0mself\u001b[0m\u001b[0;34m.\u001b[0m\u001b[0mparent\u001b[0m\u001b[0;34m[\u001b[0m\u001b[0mx\u001b[0m\u001b[0;34m]\u001b[0m\u001b[0;34m)\u001b[0m  \u001b[0;31m# Path compression\u001b[0m\u001b[0;34m\u001b[0m\u001b[0;34m\u001b[0m\u001b[0m\n\u001b[1;32m     11\u001b[0m         \u001b[0;32mreturn\u001b[0m \u001b[0mself\u001b[0m\u001b[0;34m.\u001b[0m\u001b[0mparent\u001b[0m\u001b[0;34m[\u001b[0m\u001b[0mx\u001b[0m\u001b[0;34m]\u001b[0m\u001b[0;34m\u001b[0m\u001b[0;34m\u001b[0m\u001b[0m\n",
            "\u001b[0;31mTypeError\u001b[0m: list indices must be integers or slices, not str"
          ]
        }
      ]
    },
    {
      "cell_type": "code",
      "source": [],
      "metadata": {
        "colab": {
          "base_uri": "https://localhost:8080/",
          "height": 339
        },
        "id": "mni78zbcpjiL",
        "outputId": "2a976e70-e4fd-4f89-8874-0135b8a76e62"
      },
      "execution_count": null,
      "outputs": [
        {
          "output_type": "error",
          "ename": "TypeError",
          "evalue": "list indices must be integers or slices, not str",
          "traceback": [
            "\u001b[0;31m---------------------------------------------------------------------------\u001b[0m",
            "\u001b[0;31mTypeError\u001b[0m                                 Traceback (most recent call last)",
            "\u001b[0;32m<ipython-input-1-b7ec94378e21>\u001b[0m in \u001b[0;36m<cell line: 61>\u001b[0;34m()\u001b[0m\n\u001b[1;32m     59\u001b[0m \u001b[0mn\u001b[0m \u001b[0;34m=\u001b[0m \u001b[0;36m10\u001b[0m  \u001b[0;31m# Number of individuals\u001b[0m\u001b[0;34m\u001b[0m\u001b[0;34m\u001b[0m\u001b[0m\n\u001b[1;32m     60\u001b[0m \u001b[0;34m\u001b[0m\u001b[0m\n\u001b[0;32m---> 61\u001b[0;31m \u001b[0mresult\u001b[0m \u001b[0;34m=\u001b[0m \u001b[0mearliest_connected_time\u001b[0m\u001b[0;34m(\u001b[0m\u001b[0mfriendships\u001b[0m\u001b[0;34m,\u001b[0m \u001b[0mn\u001b[0m\u001b[0;34m)\u001b[0m\u001b[0;34m\u001b[0m\u001b[0;34m\u001b[0m\u001b[0m\n\u001b[0m\u001b[1;32m     62\u001b[0m \u001b[0mprint\u001b[0m\u001b[0;34m(\u001b[0m\u001b[0;34m\"Earliest connected time:\"\u001b[0m\u001b[0;34m,\u001b[0m \u001b[0mresult\u001b[0m\u001b[0;34m)\u001b[0m\u001b[0;34m\u001b[0m\u001b[0;34m\u001b[0m\u001b[0m\n",
            "\u001b[0;32m<ipython-input-1-b7ec94378e21>\u001b[0m in \u001b[0;36mearliest_connected_time\u001b[0;34m(friendships, n)\u001b[0m\n\u001b[1;32m     28\u001b[0m \u001b[0;34m\u001b[0m\u001b[0m\n\u001b[1;32m     29\u001b[0m     \u001b[0;32mfor\u001b[0m \u001b[0mtimestamp\u001b[0m\u001b[0;34m,\u001b[0m \u001b[0mp1\u001b[0m\u001b[0;34m,\u001b[0m \u001b[0mp2\u001b[0m \u001b[0;32min\u001b[0m \u001b[0mfriendships\u001b[0m\u001b[0;34m:\u001b[0m\u001b[0;34m\u001b[0m\u001b[0;34m\u001b[0m\u001b[0m\n\u001b[0;32m---> 30\u001b[0;31m         \u001b[0;32mif\u001b[0m \u001b[0muf\u001b[0m\u001b[0;34m.\u001b[0m\u001b[0mfind\u001b[0m\u001b[0;34m(\u001b[0m\u001b[0mp1\u001b[0m\u001b[0;34m)\u001b[0m \u001b[0;34m!=\u001b[0m \u001b[0muf\u001b[0m\u001b[0;34m.\u001b[0m\u001b[0mfind\u001b[0m\u001b[0;34m(\u001b[0m\u001b[0mp2\u001b[0m\u001b[0;34m)\u001b[0m\u001b[0;34m:\u001b[0m\u001b[0;34m\u001b[0m\u001b[0;34m\u001b[0m\u001b[0m\n\u001b[0m\u001b[1;32m     31\u001b[0m             \u001b[0muf\u001b[0m\u001b[0;34m.\u001b[0m\u001b[0munion\u001b[0m\u001b[0;34m(\u001b[0m\u001b[0mp1\u001b[0m\u001b[0;34m,\u001b[0m \u001b[0mp2\u001b[0m\u001b[0;34m)\u001b[0m\u001b[0;34m\u001b[0m\u001b[0;34m\u001b[0m\u001b[0m\n\u001b[1;32m     32\u001b[0m             \u001b[0mcount\u001b[0m \u001b[0;34m+=\u001b[0m \u001b[0;36m1\u001b[0m\u001b[0;34m\u001b[0m\u001b[0;34m\u001b[0m\u001b[0m\n",
            "\u001b[0;32m<ipython-input-1-b7ec94378e21>\u001b[0m in \u001b[0;36mfind\u001b[0;34m(self, x)\u001b[0m\n\u001b[1;32m      7\u001b[0m \u001b[0;34m\u001b[0m\u001b[0m\n\u001b[1;32m      8\u001b[0m     \u001b[0;32mdef\u001b[0m \u001b[0mfind\u001b[0m\u001b[0;34m(\u001b[0m\u001b[0mself\u001b[0m\u001b[0;34m,\u001b[0m \u001b[0mx\u001b[0m\u001b[0;34m)\u001b[0m\u001b[0;34m:\u001b[0m\u001b[0;34m\u001b[0m\u001b[0;34m\u001b[0m\u001b[0m\n\u001b[0;32m----> 9\u001b[0;31m         \u001b[0;32mif\u001b[0m \u001b[0mself\u001b[0m\u001b[0;34m.\u001b[0m\u001b[0mparent\u001b[0m\u001b[0;34m[\u001b[0m\u001b[0mx\u001b[0m\u001b[0;34m]\u001b[0m \u001b[0;34m!=\u001b[0m \u001b[0mx\u001b[0m\u001b[0;34m:\u001b[0m\u001b[0;34m\u001b[0m\u001b[0;34m\u001b[0m\u001b[0m\n\u001b[0m\u001b[1;32m     10\u001b[0m             \u001b[0mself\u001b[0m\u001b[0;34m.\u001b[0m\u001b[0mparent\u001b[0m\u001b[0;34m[\u001b[0m\u001b[0mx\u001b[0m\u001b[0;34m]\u001b[0m \u001b[0;34m=\u001b[0m \u001b[0mself\u001b[0m\u001b[0;34m.\u001b[0m\u001b[0mfind\u001b[0m\u001b[0;34m(\u001b[0m\u001b[0mself\u001b[0m\u001b[0;34m.\u001b[0m\u001b[0mparent\u001b[0m\u001b[0;34m[\u001b[0m\u001b[0mx\u001b[0m\u001b[0;34m]\u001b[0m\u001b[0;34m)\u001b[0m  \u001b[0;31m# Path compression\u001b[0m\u001b[0;34m\u001b[0m\u001b[0;34m\u001b[0m\u001b[0m\n\u001b[1;32m     11\u001b[0m         \u001b[0;32mreturn\u001b[0m \u001b[0mself\u001b[0m\u001b[0;34m.\u001b[0m\u001b[0mparent\u001b[0m\u001b[0;34m[\u001b[0m\u001b[0mx\u001b[0m\u001b[0;34m]\u001b[0m\u001b[0;34m\u001b[0m\u001b[0;34m\u001b[0m\u001b[0m\n",
            "\u001b[0;31mTypeError\u001b[0m: list indices must be integers or slices, not str"
          ]
        }
      ]
    }
  ]
}